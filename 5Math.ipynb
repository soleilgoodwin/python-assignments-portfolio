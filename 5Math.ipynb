{
 "cells": [
  {
   "cell_type": "code",
   "execution_count": 7,
   "id": "b6c0dba0-48bb-400e-83de-97b2f863bdf3",
   "metadata": {},
   "outputs": [
    {
     "name": "stdin",
     "output_type": "stream",
     "text": [
      "Enter the x-coordinate of the seed point:  0.5\n",
      "Enter the y-coordinate of the seed point:  0.5\n"
     ]
    },
    {
     "name": "stdout",
     "output_type": "stream",
     "text": [
      "Valid seed point entered.\n"
     ]
    },
    {
     "name": "stdin",
     "output_type": "stream",
     "text": [
      "Enter the number of steps:  1000000\n"
     ]
    },
    {
     "name": "stdout",
     "output_type": "stream",
     "text": [
      "Number of steps set to 1000000.\n"
     ]
    },
    {
     "ename": "IndexError",
     "evalue": "list index out of range",
     "output_type": "error",
     "traceback": [
      "\u001b[0;31m---------------------------------------------------------------------------\u001b[0m",
      "\u001b[0;31mIndexError\u001b[0m                                Traceback (most recent call last)",
      "Cell \u001b[0;32mIn[7], line 58\u001b[0m\n\u001b[1;32m     55\u001b[0m     next_vertex\u001b[38;5;241m=\u001b[39m random\u001b[38;5;241m.\u001b[39mchoice(vertices)\n\u001b[1;32m     56\u001b[0m \u001b[38;5;66;03m#create the next point by moving from the last point, i.e. points[-1], to the midpoint of the line formed by that point and the random vertex you just chose.\u001b[39;00m\n\u001b[1;32m     57\u001b[0m \u001b[38;5;66;03m# You may have to look up the formula for the midpoint of a line in the plane.\u001b[39;00m\n\u001b[0;32m---> 58\u001b[0m     next_point\u001b[38;5;241m=\u001b[39m ((\u001b[43mpoints\u001b[49m\u001b[43m[\u001b[49m\u001b[38;5;241;43m-\u001b[39;49m\u001b[38;5;241;43m1\u001b[39;49m\u001b[43m]\u001b[49m[\u001b[38;5;241m0\u001b[39m] \u001b[38;5;241m+\u001b[39m next_vertex[\u001b[38;5;241m0\u001b[39m])\u001b[38;5;241m/\u001b[39m\u001b[38;5;241m2\u001b[39m, (points[\u001b[38;5;241m-\u001b[39m\u001b[38;5;241m1\u001b[39m][\u001b[38;5;241m1\u001b[39m] \u001b[38;5;241m+\u001b[39m next_vertex[\u001b[38;5;241m1\u001b[39m])\u001b[38;5;241m/\u001b[39m\u001b[38;5;241m2\u001b[39m)\n\u001b[1;32m     59\u001b[0m \u001b[38;5;66;03m#add the new point to your list of points\u001b[39;00m\n\u001b[1;32m     60\u001b[0m     points\u001b[38;5;241m.\u001b[39mappend(next_point)\n",
      "\u001b[0;31mIndexError\u001b[0m: list index out of range"
     ]
    }
   ],
   "source": [
    "import matplotlib.pyplot as plt\n",
    "import random\n",
    "# TODO: Implement the Chaos Game algorithm\n",
    "# 1. Initialize a random seed point within the triangle\n",
    "# 2. Roll the die and move the point half the distance to the chosen vertex.\n",
    "# 3. Repeat and collect the points in a list\n",
    "# (Remember to start plotting points after a dozen rolls)\n",
    "# Initialize the vertices of the triangle and the plot\n",
    "# Vertices of an equilateral triangle\n",
    "vertices = [(0, 0), (1, 0), (0.5, 0.866)]\n",
    "# A function to check whether point (x, y)\n",
    "# lies inside the triangle formed by\n",
    "# A0, 0), (1, 0) and (0.5, 0.866)\n",
    "def isInside(x1, y1, x2, y2, x3, y3, x, y):\n",
    "    def area(x1, y1, x2, y2, x3, y3):\n",
    "        return abs((x1*(y2 - y3) + x2*(y3 - y1) + x3*(y1 - y2)) / 2.0)\n",
    "    A = area(x1, y1, x2, y2, x3, y3)\n",
    "    A1 = area(x, y, x2, y2, x3, y3)\n",
    "    A2 = area(x1, y1, x, y, x3, y3)\n",
    "    A3 = area(x1, y1, x2, y2, x, y)\n",
    "    return A == A1 + A2 + A3\n",
    "# Prompting the user for a seed point\n",
    "while True:\n",
    "    try:\n",
    "        seed_x = float(input(\"Enter the x-coordinate of the seed point: \"))\n",
    "        seed_y = float(input(\"Enter the y-coordinate of the seed point: \"))\n",
    "        if isInside(0, 0, 1, 0, 0.5, 0.866, seed_x, seed_y):\n",
    "            print(\"Valid seed point entered.\")\n",
    "            break\n",
    "        else:\n",
    "            print(\"The point is not inside the triangle. Please try again.\")\n",
    "    except ValueError:\n",
    "        print(\"Invalid input. Please enter numerical values.\")\n",
    "#This is your starting point\n",
    "seed=(seed_x, seed_y)\n",
    "#Initialize a list where you will store your points (x_t,y_t),\n",
    "# starting with your seed\n",
    "points = []\n",
    "# Prompting the user for the number of steps\n",
    "while True:\n",
    "    try:\n",
    "        num_steps = int(input(\"Enter the number of steps: \"))\n",
    "        if num_steps > 0:\n",
    "            print(f\"Number of steps set to {num_steps}.\")\n",
    "            break\n",
    "        else:\n",
    "            print(\"Please enter a positive integer.\")\n",
    "    except ValueError:\n",
    "        print(\"Invalid input. Please enter a positive integer.\")\n",
    "for i in range(num_steps):\n",
    "#choose a random vertex to move toward from the list 'vertices'\n",
    "# You can use the python code random.randint(0, 2) to\n",
    "# choose a random integer between 0 and 2. Then you can use that random integer as the index for a vertex.\n",
    "# your code should look like \"next_vertex = vertex[ a random choice of index]\"\n",
    "    next_vertex= random.choice(vertices)\n",
    "#create the next point by moving from the last point, i.e. points[-1], to the midpoint of the line formed by that point and the random vertex you just chose.\n",
    "# You may have to look up the formula for the midpoint of a line in the plane.\n",
    "    next_point= ((points[-1][0] + next_vertex[0])/2, (points[-1][1] + next_vertex[1])/2)\n",
    "#add the new point to your list of points\n",
    "    points.append(next_point)\n",
    "# Function to plot the solution set\n",
    "def plot_solution(points):\n",
    "    plt.scatter([p[0] for p in points], [p[1] for p in points], s=0.1)\n",
    "    plt.show()\n",
    "#plot your points\n",
    "plot_solution(points)"
   ]
  },
  {
   "cell_type": "code",
   "execution_count": null,
   "id": "b18f102f-f0fb-48e5-ab5a-d86c70259e96",
   "metadata": {},
   "outputs": [],
   "source": []
  }
 ],
 "metadata": {
  "kernelspec": {
   "display_name": "Python 3 (ipykernel)",
   "language": "python",
   "name": "python3"
  },
  "language_info": {
   "codemirror_mode": {
    "name": "ipython",
    "version": 3
   },
   "file_extension": ".py",
   "mimetype": "text/x-python",
   "name": "python",
   "nbconvert_exporter": "python",
   "pygments_lexer": "ipython3",
   "version": "3.11.4"
  }
 },
 "nbformat": 4,
 "nbformat_minor": 5
}
