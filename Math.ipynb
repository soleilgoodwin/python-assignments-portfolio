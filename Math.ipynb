{
 "cells": [
  {
   "cell_type": "code",
   "execution_count": null,
   "id": "39127a0f-4380-4bbb-ae3f-55e3aa853a20",
   "metadata": {},
   "outputs": [],
   "source": [
    "def math(x):\n",
    "    if 0<=x<=1:\n",
    "        count = True\n",
    "        n=4\n",
    "        while count == True:\n",
    "            a=0\n",
    "            for i in range(n):\n",
    "                error_bound=(x**(2*n+1))/(2*n+1)\n",
    "                a=(((-1)**i)*(x**(2*i+1)))\n",
    "                if error_bound <=0.0001 and a==x:\n",
    "                    print((a,n,error_bound))\n",
    "                    count == False\n",
    "                elif error_bound>0.0001:\n",
    "                    n+=1\n",
    "   \n",
    "    else: print(\"Error!\")\n",
    "\n",
    "math(1) "
   ]
  }
 ],
 "metadata": {
  "kernelspec": {
   "display_name": "Python 3 (ipykernel)",
   "language": "python",
   "name": "python3"
  },
  "language_info": {
   "codemirror_mode": {
    "name": "ipython",
    "version": 3
   },
   "file_extension": ".py",
   "mimetype": "text/x-python",
   "name": "python",
   "nbconvert_exporter": "python",
   "pygments_lexer": "ipython3",
   "version": "3.11.4"
  }
 },
 "nbformat": 4,
 "nbformat_minor": 5
}
