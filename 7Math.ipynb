{
 "cells": [
  {
   "cell_type": "code",
   "execution_count": 20,
   "id": "080004b8-7755-450d-8b98-60ce7ced3f13",
   "metadata": {},
   "outputs": [
    {
     "name": "stdout",
     "output_type": "stream",
     "text": [
      "the mean of the scores is 82.382\n",
      "the standard deviation is 10.193467189005581\n"
     ]
    }
   ],
   "source": [
    "import numpy as np\n",
    "from scipy.special import gamma\n",
    "\n",
    "#compute mean and standard deviation\n",
    "scores = [92.64,79.00,84.79,97.41,93.68,65.23,84.50,73.49,73.97,79.11]\n",
    "\n",
    "def mean_scores(scores): #define function to calculate mean of scores\n",
    "    total = 0 # set initial value\n",
    "    for score in scores: # loop to go through scores\n",
    "        total += score #add scores to the total\n",
    "    mean = total/len(scores) # divide total by number of values to get the mean\n",
    "    return mean\n",
    "print (\"the mean of the scores is\", mean_scores(scores))\n",
    "\n",
    "def standard_deviation(scores): # define a function for getting the standard deviation\n",
    "    mean = mean_scores(scores) #use mean scores function to get the mean\n",
    "    variance = 0 # set variance\n",
    "    for score in scores: #loop to run through all the scores\n",
    "        variance += (score - mean)**2 # get the variance from each value\n",
    "    sd = ((variance/(len(scores)-1))**(1/2)) #divide the variance by the number of scores\n",
    "    return sd #standard deviation\n",
    "print (\"the standard deviation is\", standard_deviation(scores))\n",
    "\n"
   ]
  },
  {
   "cell_type": "code",
   "execution_count": 21,
   "id": "f0fa6a9d-1388-4877-a08b-39e800287fae",
   "metadata": {},
   "outputs": [
    {
     "name": "stdout",
     "output_type": "stream",
     "text": [
      "t0 =  2.290087686017293\n",
      "t* is equal to 2.2522252225222523\n"
     ]
    }
   ],
   "source": [
    "def get_t0(scores): #define a function to calculate the value t(0)\n",
    "    mean = mean_scores(scores) \n",
    "    sd = standard_deviation(scores)\n",
    "    t0 = (mean-75)/(sd/(len(scores)**0.5))\n",
    "    return t0\n",
    "print (\"t0 = \", (get_t0(scores)))\n",
    "\n",
    "def t_distribution_pdf(x, nu): #thanks greg for this part\n",
    "    coeff = gamma((nu + 1) / 2) / (np.sqrt(nu * np.pi) * gamma(nu / 2))\n",
    "    density = coeff * (1 + x**2 / nu) ** (-0.5 * (nu + 1))\n",
    "    return density\n",
    "\n",
    "def find_tstar(nu=(len(scores))-1, prob=0.95, x_begin=0, x_end=20, n_points=10000): \n",
    "    x = np.linspace(x_begin, x_end, n_points) #apply density function to x values\n",
    "    y=t_distribution_pdf(x, nu)\n",
    "    cdf = np.cumsum(y)*(x[1] - x[0]) #integrate\n",
    "    target_half_prob = prob/2 #find t value at half the required probability\n",
    "    index=np.where(cdf >= target_half_prob)[0][0]\n",
    "    return x[index]\n",
    "print(\"t* is equal to\", find_tstar(nu=(len(scores))-1, prob = 0.95, x_begin=0, x_end=20, n_points=10000))\n",
    "\n"
   ]
  },
  {
   "cell_type": "code",
   "execution_count": null,
   "id": "bca63878-ab58-422b-b7a8-95b6ac8b2fc5",
   "metadata": {},
   "outputs": [],
   "source": []
  }
 ],
 "metadata": {
  "kernelspec": {
   "display_name": "Python 3 (ipykernel)",
   "language": "python",
   "name": "python3"
  },
  "language_info": {
   "codemirror_mode": {
    "name": "ipython",
    "version": 3
   },
   "file_extension": ".py",
   "mimetype": "text/x-python",
   "name": "python",
   "nbconvert_exporter": "python",
   "pygments_lexer": "ipython3",
   "version": "3.11.4"
  }
 },
 "nbformat": 4,
 "nbformat_minor": 5
}
