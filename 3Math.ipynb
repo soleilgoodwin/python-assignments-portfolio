{
 "cells": [
  {
   "cell_type": "code",
   "execution_count": 6,
   "id": "c3b0504a-1889-4b06-a66b-8867ae2db8c1",
   "metadata": {},
   "outputs": [
    {
     "name": "stdout",
     "output_type": "stream",
     "text": [
      "0.99999\n",
      "1.00001\n"
     ]
    }
   ],
   "source": [
    "import numpy as np\n",
    "\n",
    "def math(x):\n",
    "    return x**2\n",
    "c=1\n",
    "E=0.01\n",
    "\n",
    "n=100\n",
    "x1=c\n",
    "x2=c\n",
    "delx=10**(-8)\n",
    "d=0.00001\n",
    "def mathh(x):\n",
    "    return (math(x+delx)-math(x-delx))/(2*delx)\n",
    "def L(x):\n",
    "    return math(c)+mathh(c)*(x-c)\n",
    "    \n",
    "for i in range(n):\n",
    "    x1-=d\n",
    "    if abs(math(x1)-L(x1)) <= E:\n",
    "        print (x1)\n",
    "        break\n",
    "else:\n",
    "    print(\"No x1\")\n",
    "\n",
    "for i in range(n):\n",
    "    x2+=d\n",
    "    if abs(math(x2)-L(x2)) <= E:\n",
    "        print (x2)\n",
    "        break\n",
    "else:\n",
    "    print(\"No x2\")\n"
   ]
  },
  {
   "cell_type": "code",
   "execution_count": null,
   "id": "89eb07d2-5318-425c-b277-f3bbfebe8daf",
   "metadata": {},
   "outputs": [],
   "source": []
  }
 ],
 "metadata": {
  "kernelspec": {
   "display_name": "Python 3 (ipykernel)",
   "language": "python",
   "name": "python3"
  },
  "language_info": {
   "codemirror_mode": {
    "name": "ipython",
    "version": 3
   },
   "file_extension": ".py",
   "mimetype": "text/x-python",
   "name": "python",
   "nbconvert_exporter": "python",
   "pygments_lexer": "ipython3",
   "version": "3.11.4"
  }
 },
 "nbformat": 4,
 "nbformat_minor": 5
}
