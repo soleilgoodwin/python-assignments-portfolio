{
 "cells": [
  {
   "cell_type": "code",
   "execution_count": null,
   "id": "bdd3154a-9ebd-4ad2-98e1-3209471b0e12",
   "metadata": {
    "scrolled": true
   },
   "outputs": [],
   "source": [
    "def bisection(func, a, b, okay_error):\n",
    "    \n",
    "    def f(x):\n",
    "        f = eval(func)\n",
    "        return f\n",
    "        \n",
    "    error = abs(b - a)\n",
    "    \n",
    "    while error > okay_error:\n",
    "        c = (b + a)/2\n",
    "        \n",
    "        if f(a)*f(b) >= 0:\n",
    "            print(\"uh oh! looks like you've got no roots or too many...python doesn't want to deal with this\")\n",
    "            quit()\n",
    "            \n",
    "        elif f(c)*f(a) < 0:\n",
    "            b = c\n",
    "            error = abs(b - a)\n",
    "            \n",
    "        elif f(c)*f(b) < 0:\n",
    "            a = c\n",
    "            error = abs(b - a)\n",
    "        \n",
    "        else:\n",
    "            print(\"uh oh, something's wrong\")\n",
    "            \n",
    "    print(f\"Your error is {error}\")\n",
    "    print(f\"a is {a}, b is {b}\")\n",
    "    print(f\"Your solution is {f(c)}\")\n",
    "\n",
    "import numpy as np\n",
    "bisection(\"(np.exp(x) + np.log(x) )\" , 0 , 1 , 0.05)\n",
    "bisection(\"(np.arctan(x)) - (x**2)\" , 0 , 2 , 0.05)\n",
    "bisection(\"(np.sin(x))/(np.log(x))\" , 3, 4, 0.05)\n",
    "bisection(\"np.log(np.cos(x))\" , 5, 7, 0.05)"
   ]
  },
  {
   "cell_type": "code",
   "execution_count": null,
   "id": "74d3ff53-8b24-40a0-b2c0-418f5bc42140",
   "metadata": {},
   "outputs": [],
   "source": []
  },
  {
   "cell_type": "code",
   "execution_count": null,
   "id": "cfa35e53-f525-4ab3-be73-b81db16738ff",
   "metadata": {},
   "outputs": [],
   "source": []
  },
  {
   "cell_type": "code",
   "execution_count": null,
   "id": "e08976b4-43f2-43f9-a411-dfb0697330cd",
   "metadata": {},
   "outputs": [],
   "source": []
  }
 ],
 "metadata": {
  "kernelspec": {
   "display_name": "Python 3 (ipykernel)",
   "language": "python",
   "name": "python3"
  },
  "language_info": {
   "codemirror_mode": {
    "name": "ipython",
    "version": 3
   },
   "file_extension": ".py",
   "mimetype": "text/x-python",
   "name": "python",
   "nbconvert_exporter": "python",
   "pygments_lexer": "ipython3",
   "version": "3.11.4"
  }
 },
 "nbformat": 4,
 "nbformat_minor": 5
}
